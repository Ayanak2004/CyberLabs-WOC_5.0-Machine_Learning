{
  "cells": [
    {
      "cell_type": "markdown",
      "metadata": {
        "id": "view-in-github",
        "colab_type": "text"
      },
      "source": [
        "<a href=\"https://colab.research.google.com/github/Ayanak2004/CyberLabs-WOC_5.0-Machine_Learning/blob/Code/Machine_Learning_Project.ipynb\" target=\"_parent\"><img src=\"https://colab.research.google.com/assets/colab-badge.svg\" alt=\"Open In Colab\"/></a>"
      ]
    },
    {
      "cell_type": "code",
      "execution_count": null,
      "metadata": {
        "id": "LzgajnY5bImN"
      },
      "outputs": [],
      "source": [
        "''' This code block is to be executed always to upload the files '''\n",
        "\n",
        "from google.colab import files\n",
        "uploaded = files.upload() # upload the required csv files\n",
        "\n",
        "# importing the necessary libraries\n",
        "import numpy as np\n",
        "import pandas as pd\n",
        "import matplotlib.pyplot as plt\n",
        "import io\n",
        "\n",
        "def normalize(X):\n",
        "  # function to z_score_normalize the input features\n",
        "  mu = np.mean(X , axis = 0)\n",
        "  sigma = np.std(X , axis = 0)\n",
        "  X_norm = (X - mu) / sigma\n",
        "  return(X_norm)"
      ]
    },
    {
      "cell_type": "code",
      "execution_count": null,
      "metadata": {
        "colab": {
          "base_uri": "https://localhost:8080/",
          "height": 312
        },
        "id": "nkDft4UPYDcu",
        "outputId": "cbb32d8b-7612-43e1-e19f-9d75a766b7d8"
      },
      "outputs": [
        {
          "data": {
            "image/png": "[encoded data removed]",
            "text/plain": [
              "<Figure size 432x288 with 1 Axes>"
            ]
          },
          "metadata": {},
          "output_type": "display_data"
        },
        {
          "data": {
            "text/plain": [
              "<Figure size 432x288 with 0 Axes>"
            ]
          },
          "metadata": {},
          "output_type": "display_data"
        }
      ],
      "source": [
        "''' Regression code block to be executed for linear and polynomial regression '''\n",
        "\n",
        "class Regression:\n",
        "\n",
        "  '''\n",
        "  cost_function : takes the training data, weights and bias as input and calculates the corresponding cost\n",
        "  gradient_descent : function takes the training data as input and optimizes the weights and bias to predict unknown data accurately\n",
        "                     also, it plots the decrease in cost function with increasing iterations\n",
        "  X : input features\n",
        "  y : target variable\n",
        "  w : weights\n",
        "  b : bias\n",
        "  dj_dw : derivative of cost function with respect to weights\n",
        "  dj_db : derivative of cost function with respect to bias\n",
        "  '''\n",
        "\n",
        "  def __init__(self,alpha,iterations):\n",
        "    self.alpha = alpha\n",
        "    self.iterations = iterations\n",
        "  \n",
        "  def cost_function(self,X,y,w,b):\n",
        "    m , n = X.shape\n",
        "    cost_T = np.zeros(m , dtype = float)\n",
        "    cost_T = (np.dot(w , X.T).T + b - y)**2\n",
        "    cost = np.sum(cost_T)\n",
        "    cost /= 2*m\n",
        "    return cost\n",
        "  \n",
        "  def gradient_descent(self,X,y):\n",
        "    m , n = X.shape\n",
        "    w = np.ones([1 , n])\n",
        "    b = 1\n",
        "    cost = np.zeros(self.iterations , dtype = float)\n",
        "    for i in range(self.iterations): \n",
        "      dj_dw = np.zeros(n , dtype = float)\n",
        "      dj_db_T = np.zeros(m , dtype = float)\n",
        "      dj_dw = np.dot((np.dot(w , X.T).T + b - y).T , X) / m\n",
        "      dj_db_T = (np.dot(w , X.T).T + b - y) / m\n",
        "      dj_db = np.sum(dj_db_T)\n",
        "      w -= self.alpha * dj_dw\n",
        "      b -= self.alpha * dj_db\n",
        "      cost[i] = self.cost_function(X,y,w,b)\n",
        "    iter = np.arange(self.iterations)\n",
        "    plt.grid(True)\n",
        "    plt.scatter(iter , cost , c='r')\n",
        "    plt.xlabel('No. of iterations →')\n",
        "    plt.ylabel('Cost function →')\n",
        "    plt.title('No. of iterations v/s Cost function')\n",
        "    plt.show()\n",
        "    plt.clf()\n",
        "    return w,b\n",
        "\n",
        "train_data = pd.read_csv(io.BytesIO(uploaded['linear_train.csv']))\n",
        "train_data = train_data.to_numpy()\n",
        "m1 , n1 = train_data.shape\n",
        "X = train_data[0:m1,1:n1-1]\n",
        "y = train_data[0:m1,n1-1:n1]\n",
        "predict = pd.read_csv(io.BytesIO(uploaded['linear_test_data.csv']))\n",
        "predict = predict.to_numpy()\n",
        "m2 , n2 = predict.shape\n",
        "id = predict[0:m2,0:1]\n",
        "id = id.flatten()\n",
        "x_pred = predict[0:m2,1:n2]\n",
        "X_in = np.concatenate([X,x_pred])\n",
        "X_in = normalize(X_in)\n",
        "X = X_in[0:m1]\n",
        "x_pred = X_in[m1:m1+m2]\n",
        "lr = Regression(alpha=0.1,iterations=100)\n",
        "w , b = lr.gradient_descent(X,y)\n",
        "y_pred = np.dot(w,x_pred.T).T + b\n",
        "y_pred = y_pred.flatten()\n",
        "data = {\"ids\":id , \"Predicted Value\":y_pred}\n",
        "df = pd.DataFrame(data)\n",
        "df.to_csv(\"linear_test_predicted.csv\",index=False)"
      ]
    },
    {
      "cell_type": "code",
      "execution_count": null,
      "metadata": {
        "colab": {
          "base_uri": "https://localhost:8080/",
          "height": 312
        },
        "id": "jsHLbooh4Pbu",
        "outputId": "1113f6a4-aaa5-45e7-e3fe-e15ae7e22ceb"
      },
      "outputs": [
        {
          "data": {
            "image/png": "[encoded data removed]",
            "text/plain": [
              "<Figure size 432x288 with 1 Axes>"
            ]
          },
          "metadata": {},
          "output_type": "display_data"
        },
        {
          "data": {
            "text/plain": [
              "<Figure size 432x288 with 0 Axes>"
            ]
          },
          "metadata": {},
          "output_type": "display_data"
        }
      ],
      "source": [
        "'''\n",
        "Polynomial Regression uses the same Regression class as used in Linear Regression because \n",
        "the training of dataset is done in the same way but just with multiplied features\n",
        "'''\n",
        "\n",
        "train_data = pd.read_csv(io.BytesIO(uploaded['polynomial_train.csv']))\n",
        "train_data = train_data.to_numpy()\n",
        "m1 , n1 = train_data.shape\n",
        "X = train_data[0:m1,1:n1-1]\n",
        "y = train_data[0:m1,n1-1:n1]\n",
        "predict = pd.read_csv(io.BytesIO(uploaded['polynomial_test_data.csv']))\n",
        "predict = predict.to_numpy()\n",
        "m2 , n2 = predict.shape\n",
        "id = predict[0:m2,0:1]\n",
        "id = id.flatten()\n",
        "x_pred = predict[0:m2,1:n2]\n",
        "X_in = np.concatenate([X,x_pred])\n",
        "var = np.zeros([n2-1,m1+m2,1] , dtype=float) # var is generated with the known information that the training data has 3 features\n",
        "for i in range(n2-1):\n",
        "  var[i] = X_in[0:m1+m2,i:i+1]\n",
        "degree = 5 # hyperparameter generating the least cost function\n",
        "X_in = np.c_[np.zeros([m1+m2,1] , dtype=float)]\n",
        "'''\n",
        "Now with the information that the training data has 3 features, we run 3 loops to\n",
        "put the polynomial combination of the 3 features upto the chosen degree in the variable X_in\n",
        "'''\n",
        "for i in range(degree + 1):\n",
        "  for j in range(degree + 1):\n",
        "    for k in range(degree + 1):\n",
        "      if((i + j + k) <= degree):\n",
        "        X_in = np.c_[X_in , (var[0]**i) * (var[1]**j) * (var[2]**k)]\n",
        "X_in = X_in[:,2:]\n",
        "X_in = normalize(X_in)\n",
        "X = X_in[0:m1]\n",
        "x_pred = X_in[m1:m1+m2]\n",
        "lr = Regression(alpha=0.1,iterations=10000)\n",
        "w , b = lr.gradient_descent(X,y)\n",
        "y_pred = np.dot(w,x_pred.T).T + b\n",
        "y_pred = y_pred.flatten()\n",
        "data = {\"ids\":id , \"Predicted Value\":y_pred}\n",
        "df = pd.DataFrame(data)\n",
        "df.to_csv(\"polynomial_test_predicted.csv\",index=False)"
      ]
    },
    {
      "cell_type": "code",
      "execution_count": null,
      "metadata": {
        "colab": {
          "base_uri": "https://localhost:8080/",
          "height": 330
        },
        "id": "tKH6CznzkWMP",
        "outputId": "16ca8cf2-e481-4825-c0b9-3c2b82d02ecb"
      },
      "outputs": [
        {
          "output_type": "display_data",
          "data": {
            "text/plain": [
              "<Figure size 432x288 with 1 Axes>"
            ],
            "image/png": "[encoded data removed]"
          },
          "metadata": {
            "needs_background": "light"
          }
        },
        {
          "output_type": "stream",
          "name": "stdout",
          "text": [
            "Accuracy:  83.38 %\n"
          ]
        },
        {
          "output_type": "display_data",
          "data": {
            "text/plain": [
              "<Figure size 432x288 with 0 Axes>"
            ]
          },
          "metadata": {}
        }
      ],
      "source": [
        "import math\n",
        "\n",
        "def softmax(z):\n",
        "  # subtracting the maximum value from each term serves for the purpose of normalization\n",
        "  e = np.exp(z - np.max(z , axis=1 , keepdims=True))\n",
        "  return e / np.sum(e , axis=1 , keepdims=True)\n",
        "\n",
        "\n",
        "class Classification:\n",
        "\n",
        "  '''\n",
        "  one_hot_encoder : function to hot-encode the multiclass target variable into a 2-D array of 0s and 1s\n",
        "  gradient_descent : optimize weights to get minimum cost and plot accuracy v/s iteration\n",
        "  y_new : hot_encoded target variable\n",
        "  acc : variable to store accuracy after each iteration\n",
        "  y_pred : final predicted variable based on the position where maximum probability value occurs\n",
        "  '''\n",
        "\n",
        "  def __init__(self,alpha,iterations):\n",
        "    self.alpha = alpha\n",
        "    self.iterations = iterations\n",
        "\n",
        "  def one_hot_encoder(self,y):\n",
        "    map = {}\n",
        "    y = y.flatten()\n",
        "    for id,num in enumerate(np.unique(y)):\n",
        "      map[num] = id\n",
        "    y_new = np.zeros([y.shape[0],len(np.unique(y))],dtype=int)\n",
        "    for i,j in enumerate(y):\n",
        "      y_new[i,map[j]] = 1\n",
        "    return y_new\n",
        "  \n",
        "  def gradient_descent(self,X,y,X_1):\n",
        "    y_new = self.one_hot_encoder(y)\n",
        "    y_new = y_new[0:X.shape[0]]\n",
        "    w = np.ones((X.shape[1],len(np.unique(y))))\n",
        "    acc = np.zeros(self.iterations)\n",
        "    y = y.flatten()\n",
        "    y = y[X.shape[0]:X.shape[0]+X_1.shape[0]]\n",
        "    test_acc = np.zeros(y.shape[0],dtype=int)\n",
        "    for i in range(self.iterations):\n",
        "      dj_dw = X.T.dot(softmax(X.dot(w))-y_new)\n",
        "      dj_dw /= X.shape[0]\n",
        "      w -= self.alpha * dj_dw\n",
        "      y_pred = np.argmax(softmax(X_1.dot(w)) , axis=1)\n",
        "      test_acc = y_pred - y\n",
        "      acc[i] = (y.shape[0] - np.count_nonzero(test_acc)) / y.shape[0]\n",
        "    iter = np.arange(self.iterations)\n",
        "    plt.grid(True)\n",
        "    plt.scatter(iter , acc , c='r')\n",
        "    plt.xlabel('No. of iterations →')\n",
        "    plt.ylabel('Accuracy →')\n",
        "    plt.title('No. of iterations v/s Accuracy')\n",
        "    plt.show()\n",
        "    plt.clf()\n",
        "    print(\"Accuracy: \",round(acc[self.iterations-1] * 100 , 2),\"%\")\n",
        "    return w\n",
        "\n",
        "\n",
        "train_data = pd.read_csv(io.BytesIO(uploaded['classification_train.csv']))\n",
        "train_data = train_data.to_numpy()\n",
        "m1 , n1 = train_data.shape\n",
        "X = train_data[0:m1,2:n1]\n",
        "y = train_data[0:m1,1:2]\n",
        "predict = pd.read_csv(io.BytesIO(uploaded['classification_test.csv']))\n",
        "predict = predict.to_numpy()\n",
        "m2 , n2 = predict.shape\n",
        "id = predict[0:m2,0:1]\n",
        "id = id.flatten()\n",
        "x_pred = predict[0:m2,1:n2]\n",
        "X = np.insert(X,0,1,axis=1) # adding '1' here basically acts as the bias term \n",
        "x_pred = np.insert(x_pred,0,1,axis=1)\n",
        "# train test split with ratio 8:2\n",
        "X_train = X[0:int(m1*0.8)]\n",
        "X_test = X[int(m1*0.8):m1]\n",
        "cls = Classification(alpha=2e-6,iterations=1000)\n",
        "w = cls.gradient_descent(X_train,y,X_test)\n",
        "y_pred = np.argmax(softmax(x_pred.dot(w)) , axis=1)\n",
        "data = {\"ids\":id , \"Predicted Value\":y_pred}\n",
        "df = pd.DataFrame(data)\n",
        "df.to_csv(\"classification_test_predicted.csv\",index=False)"
      ]
    },
    {
      "cell_type": "code",
      "execution_count": null,
      "metadata": {
        "colab": {
          "base_uri": "https://localhost:8080/",
          "height": 347
        },
        "id": "xUMcyyR4ql3j",
        "outputId": "d10d7905-da9d-4585-a89e-a1da3120d28d"
      },
      "outputs": [
        {
          "output_type": "display_data",
          "data": {
            "text/plain": [
              "<Figure size 432x288 with 1 Axes>"
            ],
            "image/png": "[encoded data removed]"
          },
          "metadata": {
            "needs_background": "light"
          }
        },
        {
          "output_type": "stream",
          "name": "stdout",
          "text": [
            "Max Accuracy:  86.3 %\n",
            "Corresponding Value of K:  50\n"
          ]
        },
        {
          "output_type": "display_data",
          "data": {
            "text/plain": [
              "<Figure size 432x288 with 0 Axes>"
            ]
          },
          "metadata": {}
        }
      ],
      "source": [
        "class KNN:\n",
        "   '''\n",
        "   mode : calculates the mode(data point with highest occurrence) of the input data\n",
        "   euclidean_distance : calculates the euclidean distance between a point and a set of points\n",
        "   knn : calculates the nearest k points from any point\n",
        "   dist_in : variable to store euclidean distance for every point\n",
        "   k_nearest_labels : target values for the k nearest neighbours\n",
        "   k_values : stores the mode of k_nearest_labels\n",
        "   '''\n",
        "\n",
        "  def __init__(self,k):\n",
        "    self.k = k\n",
        "  \n",
        "  def mode(self,labels):\n",
        "    num , count = np.unique(labels,return_counts=True)\n",
        "    return num[np.argmax(count)]\n",
        "  \n",
        "  def euclidean_distance(self,p1,p2): \n",
        "    dist = p1 - p2\n",
        "    dist *= dist\n",
        "    dist = np.sum(dist,axis=1)\n",
        "    dist = dist**0.5\n",
        "    return dist\n",
        "  \n",
        "  def knn(self,X,x_pred,y):\n",
        "    dist_ind = np.zeros([x_pred.shape[0] , X.shape[0]] , dtype=float)\n",
        "    for i,j in enumerate(x_pred):\n",
        "      dist_ind[i] = self.euclidean_distance(j,X)\n",
        "    k_values = []\n",
        "    for i in dist_ind:\n",
        "      sort_dist_ind = []\n",
        "      for index,j in enumerate(i):\n",
        "        sort_dist_ind.append((j,index))\n",
        "      sort_dist_ind = sorted(sort_dist_ind)[:self.k]\n",
        "      k_nearest_labels = [y[k][0] for distance,k in sort_dist_ind]\n",
        "      k_values.append(self.mode(k_nearest_labels))\n",
        "    return k_values\n",
        "\n",
        "\n",
        "train_data = pd.read_csv(io.BytesIO(uploaded['classification_train.csv']))\n",
        "train_data = train_data.to_numpy()\n",
        "m1 , n1 = train_data.shape\n",
        "X = train_data[0:m1,2:n1]\n",
        "y = train_data[0:m1,1:2]\n",
        "predict = pd.read_csv(io.BytesIO(uploaded['classification_test.csv']))\n",
        "predict = predict.to_numpy()\n",
        "m2 , n2 = predict.shape\n",
        "id = predict[0:m2,0:1]\n",
        "id = id.flatten()\n",
        "x_pred = predict[0:m2,1:n2]\n",
        "# verification done with data predicted by logistic regression model\n",
        "verify_data = pd.read_csv(io.BytesIO(uploaded['classification_test_predicted.csv']))\n",
        "verify_data = verify_data.to_numpy()\n",
        "m3 , n3 = verify_data.shape\n",
        "y_test = verify_data[int(m3*0.6):m3,1:2]\n",
        "y_test = y_test.flatten()\n",
        "test_acc = np.zeros(y_test.shape[0],dtype=int)\n",
        "# 10 values of K compared to get the most optimised prediction for maximum accuracy\n",
        "size = 100\n",
        "start = 50\n",
        "acc = np.zeros(size)\n",
        "for k in range(start,start+size,10):\n",
        "  knn_cls = KNN(k)\n",
        "  y_pred = knn_cls.knn(X,x_pred,y)\n",
        "  test_acc = y_pred[int(m3*0.6):m3] - y_test\n",
        "  acc[k-start] = (y_test.shape[0] - np.count_nonzero(test_acc)) / y_test.shape[0]\n",
        "iter = np.arange(start,start+size)\n",
        "plt.grid(True)\n",
        "plt.scatter(iter , acc , c='r')\n",
        "plt.xlabel('Value of K →')\n",
        "plt.ylabel('Accuracy →')\n",
        "plt.title('Value of K v/s Accuracy')\n",
        "plt.show()\n",
        "plt.clf()\n",
        "print(\"Max Accuracy: \",round(acc[np.argmax(acc)]*100,2),\"%\")\n",
        "print(\"Corresponding Value of K: \",np.argmax(acc)+start)\n",
        "knn_cls = KNN(np.argmax(acc)+start)\n",
        "y_pred = knn_cls.knn(X,x_pred,y)\n",
        "data={\"ids\":id , \"Predicted Value\":y_pred}\n",
        "df=pd.DataFrame(data)\n",
        "df.to_csv(\"KNN_test_predicted.csv\",index=False)"
      ]
    },
    {
      "cell_type": "code",
      "source": [
        "class Neural_Network:\n",
        "\n",
        "  '''\n",
        "  parameters : initialises W and b with He Normal initialization\n",
        "  sigmoid , relu : computes sigmoid and relu function of the input variable\n",
        "  d_sigmoid , d_relu : computes derivative of sigmoid and relu functions\n",
        "  forward_prop : forward propagation that computes value of Z and A in each layer and stores them in cache\n",
        "  linear_back : calculates derivative of A , W , b of each layer\n",
        "  backword_prop : changes the value of gradients with each iteration in all layers\n",
        "  n_layer_model : updates the parameters with forward and backward propagation and also computes accuracy\n",
        "  predict : predicts the target value for some given input\n",
        "  linear_cache : stores the value of A and parameters for all layers\n",
        "  activation_cache : stores the value of Z for all layers\n",
        "  '''\n",
        "\n",
        "  def __init__(self,layer_dims,alpha,iterations):\n",
        "    self.alpha = alpha\n",
        "    self.iterations = iterations\n",
        "    self.layer_dims = layer_dims\n",
        "    \n",
        "  def parameters(self):\n",
        "    param = {}\n",
        "    L = len(self.layer_dims)\n",
        "    for i in range(1,L):\n",
        "      param['W'+str(i)] = np.random.randn(layer_dims[i],layer_dims[i-1]) * np.sqrt(2/(layer_dims[i-1]+layer_dims[i]))\n",
        "      param['b'+str(i)] = np.zeros((layer_dims[i],1))\n",
        "    return param\n",
        "  \n",
        "  def sigmoid(self,z):\n",
        "    return 1 / (1 + np.exp(-z)) , z\n",
        "  def relu(self,z):\n",
        "    return z * (z>0) , z\n",
        "  def d_sigmoid(self,z):\n",
        "    x , y = self.sigmoid(z)\n",
        "    return x * (1-x)\n",
        "  def d_relu(self,z):\n",
        "    x , y = self.relu(z)\n",
        "    return 1.0 * (x>0)\n",
        "\n",
        "  def forward_prop(self,X,param):\n",
        "    caches = []\n",
        "    A = X\n",
        "    L = len(param) // 2\n",
        "    for i in range(1,L):\n",
        "      A_prev = A\n",
        "      Z = np.dot(param['W'+str(i)],A_prev)+param['b'+str(i)]\n",
        "      linear_cache = (A_prev , param['W'+str(i)] , param['b'+str(i)])\n",
        "      A , activation_cache = self.relu(Z)\n",
        "      cache = (linear_cache,activation_cache)\n",
        "      caches.append(cache)\n",
        "    Z = np.dot(param['W'+str(L)],A) + param['b'+str(L)]\n",
        "    linear_cache = (A , param['W'+str(L)] , param['b'+str(L)])\n",
        "    Y_pred , activation_cache = self.sigmoid(Z)\n",
        "    cache = (linear_cache,activation_cache)\n",
        "    caches.append(cache)\n",
        "    return Y_pred , caches\n",
        "\n",
        "  def linear_back(self,dZ,cache):\n",
        "    lambda_ = 0.01\n",
        "    A_prev , W , b = cache\n",
        "    m = A_prev.shape[1]\n",
        "    dW = np.dot(dZ,A_prev.T) + lambda_*W\n",
        "    db = np.sum(dZ , axis=1 , keepdims=True)\n",
        "    dA_prev = np.dot(W.T,dZ)\n",
        "    dW/=m\n",
        "    db/=m\n",
        "    return dA_prev , dW , db\n",
        "\n",
        "  def backward_prop(self,Y_pred,y,caches):\n",
        "    grads={}\n",
        "    L = len(caches)\n",
        "    dY_pred =- (np.divide(y,Y_pred) - np.divide(1-y,1-Y_pred))\n",
        "    linear_cache , activation_cache = caches[L-1]\n",
        "    dZ = dY_pred * self.d_sigmoid(activation_cache)\n",
        "    grads[\"dA\"+str(L-1)] , grads[\"dW\"+str(L)] , grads[\"db\"+str(L)] = self.linear_back(dZ,linear_cache)\n",
        "    for i in reversed(range(L-1)):\n",
        "      linear_cache , activation_cache = caches[i]\n",
        "      dZ = grads[\"dA\"+str(i+1)] * self.d_relu(activation_cache)\n",
        "      grads[\"dA\"+str(i)] , grads[\"dW\"+str(i+1)] , grads[\"db\"+str(i+1)] = self.linear_back(dZ,linear_cache)\n",
        "    return grads\n",
        "\n",
        "  def n_layer_model(self,X,x_test,y_train,y_test):\n",
        "    param = self.parameters()\n",
        "    L = len(param)//2\n",
        "    acc = np.zeros(self.iterations)\n",
        "    for i in range(self.iterations):\n",
        "      Y_pred,caches = self.forward_prop(X,param)\n",
        "      grads = self.backward_prop(Y_pred,y_train,caches)\n",
        "      for j in range(L):\n",
        "        param[\"W\"+str(j+1)] -= self.alpha * grads[\"dW\"+str(j+1)]\n",
        "        param[\"b\"+str(j+1)] -= self.alpha * grads[\"db\"+str(j+1)]\n",
        "      y_new = self.predict(x_test,param)\n",
        "      y_new = y_new.flatten()\n",
        "      test_acc = y_new - y_test\n",
        "      acc[i] = (y_test.shape[1] - np.count_nonzero(test_acc)) / y_test.shape[1]\n",
        "    iter=np.arange(self.iterations)\n",
        "    plt.grid(True)\n",
        "    plt.scatter(iter , acc , c='r')\n",
        "    plt.xlabel('No. of iterations →')\n",
        "    plt.ylabel('Accuracy →')\n",
        "    plt.title('No. of iterations v/s Accuracy')\n",
        "    plt.show()\n",
        "    plt.clf()\n",
        "    print(\"Accuracy: \",round(acc[self.iterations-1]*100,2),\"%\")\n",
        "    return param\n",
        "\n",
        "  def predict(self,X,param):\n",
        "    y_pred , caches = self.forward_prop(X,param)\n",
        "    Y_pred = np.argmax(y_pred,axis=0)\n",
        "    return Y_pred.reshape(1,Y_pred.shape[0])\n",
        "\n",
        "\n",
        "train_data = pd.read_csv(io.BytesIO(uploaded['classification_train.csv']))\n",
        "train_data = train_data.to_numpy()\n",
        "m1 , n1 = train_data.shape\n",
        "X = train_data[0:m1,2:n1]\n",
        "y = train_data[0:m1,1:2]\n",
        "predict = pd.read_csv(io.BytesIO(uploaded['classification_test.csv']))\n",
        "predict = predict.to_numpy()\n",
        "m2 , n2 = predict.shape\n",
        "id = predict[0:m2,0:1]\n",
        "id = id.flatten()\n",
        "x_pred = predict[0:m2,1:n2]\n",
        "X_in = np.concatenate([X,x_pred])\n",
        "X_in = normalize(X_in)\n",
        "X = X_in[0:m1]\n",
        "x_pred = X_in[m1:m1+m2]\n",
        "dim = X.shape[1]\n",
        "layer_dims = [] # stores the number of neurons in each layer\n",
        "while(dim>10):\n",
        "  layer_dims.append(dim)\n",
        "  dim //= 3\n",
        "layer_dims.append(10)\n",
        "layer_dims.append(10)\n",
        "n_neural = Neural_Network(layer_dims,alpha=0.1,iterations=500)\n",
        "# train test split with ratio 8:2\n",
        "X_train = X[0:int(m1*0.8)]\n",
        "X_test = X[int(m1*0.8):m1]\n",
        "y1 = y\n",
        "# y_new is hot-encoded y(target variable)\n",
        "map = {}\n",
        "y = y.flatten()\n",
        "for pos,num in enumerate(np.unique(y)):\n",
        "  map[num] = pos\n",
        "y_new = np.zeros([y.shape[0] , len(np.unique(y))] , dtype=int)\n",
        "for i,j in enumerate(y):\n",
        "  y_new[i,map[j]] = 1\n",
        "y_train = y_new[0:int(m1*0.8)]\n",
        "y_test = y1[int(m1*0.8):m1]\n",
        "param = n_neural.n_layer_model(X_train.T , X_test.T , y_train.T , y_test.T)\n",
        "y_pred = n_neural.predict(x_pred.T,param)\n",
        "y_pred = y_pred.flatten()\n",
        "data = {\"ids\":id , \"Predicted Value\":y_pred}\n",
        "df = pd.DataFrame(data)\n",
        "df.to_csv(\"Neural_Network_predicted.csv\",index=False)"
      ],
      "metadata": {
        "id": "N4geUIPX-6VE",
        "colab": {
          "base_uri": "https://localhost:8080/",
          "height": 330
        },
        "outputId": "889a6d60-6ac6-40fd-c734-c7b4ce6748ee"
      },
      "execution_count": null,
      "outputs": [
        {
          "output_type": "display_data",
          "data": {
            "text/plain": [
              "<Figure size 432x288 with 1 Axes>"
            ],
            "image/png": "[encoded data removed]"
          },
          "metadata": {
            "needs_background": "light"
          }
        },
        {
          "output_type": "stream",
          "name": "stdout",
          "text": [
            "Accuracy:  86.53 %\n"
          ]
        },
        {
          "output_type": "display_data",
          "data": {
            "text/plain": [
              "<Figure size 432x288 with 0 Axes>"
            ]
          },
          "metadata": {}
        }
      ]
    }
  ],
  "metadata": {
    "colab": {
      "provenance": [],
      "include_colab_link": true
    },
    "gpuClass": "standard",
    "kernelspec": {
      "display_name": "Python 3",
      "name": "python3"
    },
    "language_info": {
      "name": "python"
    }
  },
  "nbformat": 4,
  "nbformat_minor": 0
}